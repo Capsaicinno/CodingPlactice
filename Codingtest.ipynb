{
 "cells": [
  {
   "cell_type": "code",
   "execution_count": 13,
   "id": "4615f984",
   "metadata": {},
   "outputs": [
    {
     "name": "stdout",
     "output_type": "stream",
     "text": [
      "[1, 2, 3, 4, 5, 6, 7, 8, 9, 10]\n",
      "lo= 0           hi= 9\n",
      "k= 4 nums[k]= 5\n",
      "もっとちいさい\n",
      "ここでk= 2 \n",
      "\n",
      "[1, 2, 3, 4, 5, 6, 7, 8, 9, 10]\n",
      "lo= 0           hi= 4\n",
      "k= 2 nums[k]= 3\n",
      "もっとちいさい\n",
      "ここでk= 1 \n",
      "\n",
      "[1, 2, 3, 4, 5, 6, 7, 8, 9, 10]\n",
      "lo= 0           hi= 2\n",
      "k= 1 nums[k]= 2\n",
      "もっとちいさい\n",
      "ここでk= 0 \n",
      "\n"
     ]
    },
    {
     "data": {
      "text/plain": [
       "1"
      ]
     },
     "execution_count": 13,
     "metadata": {},
     "output_type": "execute_result"
    }
   ],
   "source": [
    "#35 Search Insert Position\n",
    "def SearchInsert(nums,target):\n",
    "    lo = 0\n",
    "    hi = len(nums)-1\n",
    "    k = (lo + hi)//2\n",
    "    while lo+1 < hi: \n",
    "        print(nums)\n",
    "        print(\"lo=\",lo,\"          hi=\",hi)\n",
    "        print(\"k=\",k,\"nums[k]=\",nums[k])\n",
    "        if target <= lo:\n",
    "            print(\"でた\")\n",
    "            return lo\n",
    "        elif nums[k] < target:\n",
    "            print(\"もっとでかい\")\n",
    "            lo = k\n",
    "        elif target <= nums[k]:\n",
    "            print(\"もっとちいさい\")\n",
    "            hi = k\n",
    "        k = (lo + hi)//2\n",
    "        print(\"ここでk=\",k,\"\\n\")\n",
    "    return k+1\n",
    "nums =[1,2,3,4,5,6,7,8,9,10]\n",
    "target = 1\n",
    "SearchInsert(nums,target)\n"
   ]
  },
  {
   "cell_type": "code",
   "execution_count": null,
   "id": "3b07a86c",
   "metadata": {},
   "outputs": [
    {
     "name": "stdout",
     "output_type": "stream",
     "text": [
      "[' ', ' ', 'n', 'o', 'o', 'm', ' ', 'e', 'h', 't', ' ', 'o', 't', ' ', 'e', 'm', ' ', 'y', 'l', 'f', ' ']\n"
     ]
    },
    {
     "data": {
      "text/plain": [
       "4"
      ]
     },
     "execution_count": 6,
     "metadata": {},
     "output_type": "execute_result"
    }
   ],
   "source": [
    "#58 Length of  Last Word\n",
    "#リスト化して逆さまにして二個目のスペースに当たったらかえす\n",
    "\n",
    "def lengthoflastword(s):\n",
    "    a = list(s)\n",
    "    a.reverse()\n",
    "    print(a)\n",
    "    firstword = False\n",
    "    length = 0\n",
    "    for i in a:\n",
    "        if i != \" \":\n",
    "            length += 1\n",
    "            firstword = True\n",
    "        if firstword and i == \" \":\n",
    "            return length\n",
    "    return length\n",
    "\n",
    "s = \" fly me to the moon  \"\n",
    "lengthoflastword(s)"
   ]
  },
  {
   "cell_type": "code",
   "execution_count": 3,
   "id": "b7f6fbc9",
   "metadata": {},
   "outputs": [
    {
     "name": "stdout",
     "output_type": "stream",
     "text": [
      "[' ', 'f', 'l', 'y', ' ', 'm', 'e', ' ', 't', 'o', ' ', 't', 'h', 'e', ' ', 'm', 'o', 'o', 'n', ' ', ' ']\n"
     ]
    }
   ],
   "source": [
    "s = \" fly me to the moon  \"\n",
    "a = list(s)\n",
    "print(a)"
   ]
  },
  {
   "cell_type": "code",
   "execution_count": null,
   "id": "03bdf083",
   "metadata": {},
   "outputs": [
    {
     "ename": "SyntaxError",
     "evalue": "invalid syntax (4376755.py, line 19)",
     "output_type": "error",
     "traceback": [
      "\u001b[0;36m  Cell \u001b[0;32mIn[27], line 19\u001b[0;36m\u001b[0m\n\u001b[0;31m    digits = [9,,99,9]\u001b[0m\n\u001b[0m                ^\u001b[0m\n\u001b[0;31mSyntaxError\u001b[0m\u001b[0;31m:\u001b[0m invalid syntax\n"
     ]
    }
   ],
   "source": [
    "#66PlusOne\n",
    "#リストをint化ってできない？できなそう\n",
    "#繰り上がりありかどうかと現在の数が９かどうかで考えるってやつをやるそれを右から\n",
    "def plusOne(digits):\n",
    "    carry = 1\n",
    "    for i in range(len(digits)):\n",
    "        #-i-1で　-1,-2,-3になる\n",
    "        current = -i-1\n",
    "        if digits[current] == 9 and carry == 1:\n",
    "            carry = 1\n",
    "            digits[current] = 0\n",
    "        else:\n",
    "            digits[current] += carry\n",
    "            carry = 0\n",
    "    if digits[0] == 0:\n",
    "        digits.insert(0,1)\n",
    "    return digits\n",
    "\n",
    "digits = []\n",
    "plusOne(digits)"
   ]
  },
  {
   "cell_type": "code",
   "execution_count": 14,
   "id": "d5683639",
   "metadata": {},
   "outputs": [
    {
     "name": "stdout",
     "output_type": "stream",
     "text": [
      "四 0\n",
      "三 1\n",
      "二 2\n",
      "一 3\n"
     ]
    }
   ],
   "source": [
    "a = [\"一\",\"二\",\"三\",\"四\"]\n",
    "for i in range(len(a)):\n",
    "    print(a[-i-1],i)"
   ]
  },
  {
   "cell_type": "code",
   "execution_count": 29,
   "id": "29d46889",
   "metadata": {},
   "outputs": [
    {
     "data": {
      "text/plain": [
       "[1, 0, 1, 1, 1, 1, 1]"
      ]
     },
     "execution_count": 29,
     "metadata": {},
     "output_type": "execute_result"
    }
   ],
   "source": [
    "#67 Add Binary\n",
    "#普通にキャリーとか使ってできそうだけどね ループどっち基準でやるk\n",
    "#いったん２重ループで\n",
    "#てか論理和か。a + b + c\n",
    "\n",
    "#復習というか解きなおし8/28\n",
    "def addBinary(a,b):\n",
    "    # a = list(map(int,a))\n",
    "    # b = list(map(int,b))\n",
    "    # carry = 0\n",
    "    # result = []\n",
    "    # while i < len(a) and i < len(b):\n",
    "    #     if a + b + carry == 3:\n",
    "    #         carry = 1\n",
    "    #         result[-i-1] = 1\n",
    "    #     elif a + b + carry == 2:\n",
    "    #         result[-i-1] = 0\n",
    "    #         carry = 1\n",
    "    #     else:\n",
    "    #         result[-i-1] = a + b + carry\n",
    "    i = 0\n",
    "    int_a = list(map(int,a))\n",
    "    int_b = list(map(int,b))\n",
    "    carry = 0\n",
    "    result = []\n",
    "    while i < len(int_a) or i < len(int_b): #orでいいのか。続けるために\n",
    "        sum =  int_a[len(int_a)-i-1] + int_b[len(int_b)-i-1]  + carry \n",
    "        carry = sum //2\n",
    "        result.insert(0,sum%2)              #これで最後から入れてるよってできるのかどうか。長さ定義もしてないのに\n",
    "        i+=1\n",
    "    if carry == 1:\n",
    "        result.insert(0,carry)\n",
    "    return result\n",
    "\n",
    "a = \"100000\"\n",
    "b = \"111\"\n",
    "addBinary(a,b)\n",
    "\n",
    "            \n",
    "    \n",
    "# print(list(a))     →→['1','1']\n",
    "\n",
    "# aa = list(map(int,list(a)))　→→ [1,1]\n",
    "# b = list(map(int,a)) 　→→ [1,1] これでい"
   ]
  },
  {
   "cell_type": "code",
   "execution_count": 18,
   "id": "064c40e0",
   "metadata": {},
   "outputs": [
    {
     "name": "stdout",
     "output_type": "stream",
     "text": [
      "まずtを 4 にします\n",
      "でかい！tは 2.0 になった\n",
      "整数部分にじょうしたら等しくなっちゃう\n"
     ]
    },
    {
     "data": {
      "text/plain": [
       "2.0"
      ]
     },
     "execution_count": 18,
     "metadata": {},
     "output_type": "execute_result"
    }
   ],
   "source": [
    "#69 Sqrt(x)\n",
    "#二分探索やってみる\n",
    "def mySqrt(x):\n",
    "    unko = True\n",
    "    t  = x\n",
    "    tsakki = t\n",
    "    p = t/2\n",
    "    print(\"まずtを\",t,\"にします\")\n",
    "    while unko:\n",
    "        if t*t > x:\n",
    "            t -= p\n",
    "            print(\"でかい！tは\",t,\"になった\")\n",
    "            if tsakki//1 == t//1:\n",
    "                print(\"さっきと整数部部分いっしょじゃねえか！\")\n",
    "                return t//1 -1\n",
    "        elif t*t < x:\n",
    "            t += p\n",
    "            print(\"ちっちゃい！tは\",t,\"になった\")\n",
    "            if tsakki//1 == t//1:\n",
    "                print(\"さっきと整数部部分いっしょじゃねえか！\")\n",
    "                return t//1\n",
    "        if (t//1)*(t//1) == x:\n",
    "            print(\"整数部分にじょうしたら等しくなっちゃう\")\n",
    "            return t//1\n",
    "        \n",
    "        tsakki = t\n",
    "        p /= 2\n",
    "\n",
    "\n",
    "x = 4\n",
    "mySqrt(x)\n"
   ]
  },
  {
   "cell_type": "code",
   "execution_count": null,
   "id": "429d592f",
   "metadata": {},
   "outputs": [
    {
     "name": "stdout",
     "output_type": "stream",
     "text": [
      "13.0\n"
     ]
    }
   ],
   "source": [
    "#70 CLimStairs数学的に解くと階上とかしぐま必要だ。\n",
    "#プログラマーとして考えないと。いやー難しいな数学との違いは、残りの数とかを別問題で考えていい先に2やってみたいなこういうのの探索方法ってあるのかな。逆に手から数えてみるのもあり？nが５の時に(1,1,1,1,1)ああ５だ。みたいなで1を２個減らして\n",
    "#だめだ思いつかない、、いや、全部1のパターンから2が1こ2が2こ2が３こでやっていこう\n",
    "def climbStairs(n):\n",
    "    a = 0\n",
    "    for i in range(n//2+1):          #(n-i)!/((n-2i)! * i!)  iは２の個数。　てことは、階乗なんだけど分母はn-i個ではなく(n-i) + (n-2i)　つまり i個でいいのか？例で考えると、5で2が１個の時は4だけどそれは4!わる１!わる３!　わる１が必要なのか。\n",
    "        k = 1\n",
    "        for j in range(i):  #これいけてるわ。\n",
    "            k *= (n-i)-j\n",
    "            k /= j+1\n",
    "        a += k\n",
    "    print(a)\n",
    "\n",
    "climbStairs(6)\n"
   ]
  },
  {
   "cell_type": "code",
   "execution_count": 50,
   "id": "5b15e5eb",
   "metadata": {},
   "outputs": [
    {
     "name": "stdout",
     "output_type": "stream",
     "text": [
      "1.0\n",
      "24\n"
     ]
    }
   ],
   "source": [
    "#階上をそもそも定義できるか。\n",
    "def kaijo(n):\n",
    "    a = 1\n",
    "    for i in range(n):\n",
    "        a *= n-i\n",
    "\n",
    "    print(a)\n",
    "\n",
    "def kore(n,i):\n",
    "    k = 1\n",
    "    for j in range(i):\n",
    "        k *= (n-i)-j\n",
    "        k /= j+1\n",
    "    print(k)\n",
    "\n",
    "kore(2,1)\n",
    "\n",
    "kaijo(4)"
   ]
  },
  {
   "cell_type": "code",
   "execution_count": null,
   "id": "3bea424f",
   "metadata": {},
   "outputs": [],
   "source": [
    "#83 Remove Duplicates from Sorted List　#リストノードだ。もう一個別のリストノード作ってしまえばいいのではないか\n",
    "class ListNode(object):\n",
    "    def __init__(self, val=0, next=None):\n",
    "        self.val = val\n",
    "        self.next = next\n",
    "\n",
    "def deleteDuplicates(head):\n",
    "    dummy = ListNode(-1)\n",
    "    current = dummy\n",
    "    current.next = head\n",
    "    current = current.next\n",
    "    while head:\n",
    "        if not head == current:\n",
    "            current.next = head\n",
    "            current = current.next\n",
    "        head = head.next\n",
    "    return dummy.next\n",
    "#これだとheadがコピーされちゃう？\n",
    "\n",
    "\n",
    "\n"
   ]
  },
  {
   "cell_type": "code",
   "execution_count": 62,
   "id": "6346d2ce",
   "metadata": {},
   "outputs": [
    {
     "name": "stdout",
     "output_type": "stream",
     "text": [
      "1\n",
      "2\n",
      "3\n"
     ]
    }
   ],
   "source": [
    "class ListNode(object):#リストを自分で作れるか\n",
    "    def __init__(self, val=0, next=None):\n",
    "        self.val = val\n",
    "        self.next = next\n",
    "\n",
    "head = ListNode(1)\n",
    "current = head\n",
    "current.next = ListNode(2)\n",
    "current = current.next\n",
    "current.next = ListNode(3)\n",
    "\n",
    "print(head.val)\n",
    "head = head.next\n",
    "print(head.val)\n",
    "head = head.next\n",
    "print(head.val)"
   ]
  },
  {
   "cell_type": "code",
   "execution_count": null,
   "id": "1cbd8239",
   "metadata": {},
   "outputs": [],
   "source": []
  }
 ],
 "metadata": {
  "kernelspec": {
   "display_name": "base",
   "language": "python",
   "name": "python3"
  },
  "language_info": {
   "codemirror_mode": {
    "name": "ipython",
    "version": 3
   },
   "file_extension": ".py",
   "mimetype": "text/x-python",
   "name": "python",
   "nbconvert_exporter": "python",
   "pygments_lexer": "ipython3",
   "version": "3.12.7"
  }
 },
 "nbformat": 4,
 "nbformat_minor": 5
}
