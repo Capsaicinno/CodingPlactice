{
 "cells": [
  {
   "cell_type": "code",
   "execution_count": 13,
   "id": "4615f984",
   "metadata": {},
   "outputs": [
    {
     "name": "stdout",
     "output_type": "stream",
     "text": [
      "[1, 2, 3, 4, 5, 6, 7, 8, 9, 10]\n",
      "lo= 0           hi= 9\n",
      "k= 4 nums[k]= 5\n",
      "もっとちいさい\n",
      "ここでk= 2 \n",
      "\n",
      "[1, 2, 3, 4, 5, 6, 7, 8, 9, 10]\n",
      "lo= 0           hi= 4\n",
      "k= 2 nums[k]= 3\n",
      "もっとちいさい\n",
      "ここでk= 1 \n",
      "\n",
      "[1, 2, 3, 4, 5, 6, 7, 8, 9, 10]\n",
      "lo= 0           hi= 2\n",
      "k= 1 nums[k]= 2\n",
      "もっとちいさい\n",
      "ここでk= 0 \n",
      "\n"
     ]
    },
    {
     "data": {
      "text/plain": [
       "1"
      ]
     },
     "execution_count": 13,
     "metadata": {},
     "output_type": "execute_result"
    }
   ],
   "source": [
    "#35 Search Insert Position\n",
    "def SearchInsert(nums,target):\n",
    "    lo = 0\n",
    "    hi = len(nums)-1\n",
    "    k = (lo + hi)//2\n",
    "    while lo+1 < hi: \n",
    "        print(nums)\n",
    "        print(\"lo=\",lo,\"          hi=\",hi)\n",
    "        print(\"k=\",k,\"nums[k]=\",nums[k])\n",
    "        if target <= lo:\n",
    "            print(\"でた\")\n",
    "            return lo\n",
    "        elif nums[k] < target:\n",
    "            print(\"もっとでかい\")\n",
    "            lo = k\n",
    "        elif target <= nums[k]:\n",
    "            print(\"もっとちいさい\")\n",
    "            hi = k\n",
    "        k = (lo + hi)//2\n",
    "        print(\"ここでk=\",k,\"\\n\")\n",
    "    return k+1\n",
    "nums =[1,2,3,4,5,6,7,8,9,10]\n",
    "target = 1\n",
    "SearchInsert(nums,target)\n"
   ]
  },
  {
   "cell_type": "code",
   "execution_count": null,
   "id": "3b07a86c",
   "metadata": {},
   "outputs": [
    {
     "name": "stdout",
     "output_type": "stream",
     "text": [
      "[' ', ' ', 'n', 'o', 'o', 'm', ' ', 'e', 'h', 't', ' ', 'o', 't', ' ', 'e', 'm', ' ', 'y', 'l', 'f', ' ']\n"
     ]
    },
    {
     "data": {
      "text/plain": [
       "4"
      ]
     },
     "execution_count": 6,
     "metadata": {},
     "output_type": "execute_result"
    }
   ],
   "source": [
    "#58 Length of  Last Word\n",
    "#リスト化して逆さまにして二個目のスペースに当たったらかえす\n",
    "\n",
    "def lengthoflastword(s):\n",
    "    a = list(s)\n",
    "    a.reverse()\n",
    "    print(a)\n",
    "    firstword = False\n",
    "    length = 0\n",
    "    for i in a:\n",
    "        if i != \" \":\n",
    "            length += 1\n",
    "            firstword = True\n",
    "        if firstword and i == \" \":\n",
    "            return length\n",
    "    return length\n",
    "\n",
    "s = \" fly me to the moon  \"\n",
    "lengthoflastword(s)"
   ]
  },
  {
   "cell_type": "code",
   "execution_count": 3,
   "id": "b7f6fbc9",
   "metadata": {},
   "outputs": [
    {
     "name": "stdout",
     "output_type": "stream",
     "text": [
      "[' ', 'f', 'l', 'y', ' ', 'm', 'e', ' ', 't', 'o', ' ', 't', 'h', 'e', ' ', 'm', 'o', 'o', 'n', ' ', ' ']\n"
     ]
    }
   ],
   "source": [
    "s = \" fly me to the moon  \"\n",
    "a = list(s)\n",
    "print(a)"
   ]
  },
  {
   "cell_type": "code",
   "execution_count": null,
   "id": "03bdf083",
   "metadata": {},
   "outputs": [
    {
     "ename": "SyntaxError",
     "evalue": "invalid syntax (4376755.py, line 19)",
     "output_type": "error",
     "traceback": [
      "\u001b[0;36m  Cell \u001b[0;32mIn[27], line 19\u001b[0;36m\u001b[0m\n\u001b[0;31m    digits = [9,,99,9]\u001b[0m\n\u001b[0m                ^\u001b[0m\n\u001b[0;31mSyntaxError\u001b[0m\u001b[0;31m:\u001b[0m invalid syntax\n"
     ]
    }
   ],
   "source": [
    "#66PlusOne\n",
    "#リストをint化ってできない？できなそう\n",
    "#繰り上がりありかどうかと現在の数が９かどうかで考えるってやつをやるそれを右から\n",
    "def plusOne(digits):\n",
    "    carry = 1\n",
    "    for i in range(len(digits)):\n",
    "        #-i-1で　-1,-2,-3になる\n",
    "        current = -i-1\n",
    "        if digits[current] == 9 and carry == 1:\n",
    "            carry = 1\n",
    "            digits[current] = 0\n",
    "        else:\n",
    "            digits[current] += carry\n",
    "            carry = 0\n",
    "    if digits[0] == 0:\n",
    "        digits.insert(0,1)\n",
    "    return digits\n",
    "\n",
    "digits = []\n",
    "plusOne(digits)"
   ]
  },
  {
   "cell_type": "code",
   "execution_count": 14,
   "id": "d5683639",
   "metadata": {},
   "outputs": [
    {
     "name": "stdout",
     "output_type": "stream",
     "text": [
      "四 0\n",
      "三 1\n",
      "二 2\n",
      "一 3\n"
     ]
    }
   ],
   "source": [
    "a = [\"一\",\"二\",\"三\",\"四\"]\n",
    "for i in range(len(a)):\n",
    "    print(a[-i-1],i)"
   ]
  },
  {
   "cell_type": "code",
   "execution_count": null,
   "id": "29d46889",
   "metadata": {},
   "outputs": [],
   "source": []
  }
 ],
 "metadata": {
  "kernelspec": {
   "display_name": "base",
   "language": "python",
   "name": "python3"
  },
  "language_info": {
   "codemirror_mode": {
    "name": "ipython",
    "version": 3
   },
   "file_extension": ".py",
   "mimetype": "text/x-python",
   "name": "python",
   "nbconvert_exporter": "python",
   "pygments_lexer": "ipython3",
   "version": "3.12.7"
  }
 },
 "nbformat": 4,
 "nbformat_minor": 5
}
