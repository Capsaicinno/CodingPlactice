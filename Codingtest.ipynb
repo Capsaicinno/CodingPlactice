{
 "cells": [
  {
   "cell_type": "code",
   "execution_count": 8,
   "id": "4615f984",
   "metadata": {},
   "outputs": [
    {
     "name": "stdout",
     "output_type": "stream",
     "text": [
      "[1, 2, 3, 4, 5, 6, 7, 8, 9, 10]\n",
      "lo= 0           hi= 9\n",
      "k= 4 nums[k]= 5\n",
      "もっとちいさい\n",
      "ここでk= 2\n",
      "[1, 2, 3, 4, 5, 6, 7, 8, 9, 10]\n",
      "lo= 0           hi= 4\n",
      "k= 2 nums[k]= 3\n",
      "もっとちいさい\n",
      "ここでk= 1\n",
      "[1, 2, 3, 4, 5, 6, 7, 8, 9, 10]\n",
      "lo= 0           hi= 2\n",
      "k= 1 nums[k]= 2\n",
      "もっとちいさい\n",
      "ここでk= 0\n"
     ]
    }
   ],
   "source": [
    "#35 Search Insert Position\n",
    "def SearchInsert(nums,target):\n",
    "    lo = 0\n",
    "    hi = len(nums)-1\n",
    "    k = (lo + hi)//2\n",
    "    while lo+1 < hi: \n",
    "        print(nums)\n",
    "        print(\"lo=\",lo,\"          hi=\",hi)\n",
    "        print(\"k=\",k,\"nums[k]=\",nums[k])\n",
    "        if target < lo:\n",
    "            print(\"でた\")\n",
    "            return lo\n",
    "        elif nums[k] < target:\n",
    "            print(\"もっとでかい\")\n",
    "            lo = k\n",
    "        elif target <= nums[k]:\n",
    "            print(\"もっとちいさい\")\n",
    "            hi = k\n",
    "        k = (lo + hi)//2\n",
    "        print(\"ここでk=\",k)\n",
    "\n",
    "nums =[1,2,3,4,5,6,7,8,9,10]\n",
    "target = 2\n",
    "SearchInsert(nums,target)\n"
   ]
  },
  {
   "cell_type": "code",
   "execution_count": null,
   "id": "3b07a86c",
   "metadata": {},
   "outputs": [],
   "source": []
  }
 ],
 "metadata": {
  "kernelspec": {
   "display_name": "base",
   "language": "python",
   "name": "python3"
  },
  "language_info": {
   "codemirror_mode": {
    "name": "ipython",
    "version": 3
   },
   "file_extension": ".py",
   "mimetype": "text/x-python",
   "name": "python",
   "nbconvert_exporter": "python",
   "pygments_lexer": "ipython3",
   "version": "3.12.7"
  }
 },
 "nbformat": 4,
 "nbformat_minor": 5
}
